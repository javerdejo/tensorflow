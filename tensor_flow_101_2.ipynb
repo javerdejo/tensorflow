{
 "cells": [
  {
   "cell_type": "markdown",
   "metadata": {},
   "source": [
    "# Tensorflow 101\n",
    "## Uso de TensorFlow para modelos de regresion lineal simple\n",
    "(Por: Javier Arellano-Verdejo)"
   ]
  },
  {
   "cell_type": "code",
   "execution_count": 29,
   "metadata": {},
   "outputs": [],
   "source": [
    "import tensorflow as tf\n",
    "import matplotlib.pyplot as plt\n",
    "\n",
    "%matplotlib inline"
   ]
  },
  {
   "cell_type": "markdown",
   "metadata": {},
   "source": [
    "### Modelo de regresion lineal simple\n",
    "\n",
    "$$ Y = WX + b $$\n",
    "\n",
    "Si tenemos n caracteristicas la ecuación general es:\n",
    "\n",
    "$$ Y = b + W_1X_1 + W_2X_2 + \\cdots + W_nX_n $$"
   ]
  },
  {
   "cell_type": "code",
   "execution_count": 2,
   "metadata": {},
   "outputs": [],
   "source": [
    "# PARÁMETROS DEL MODELO, los valores 3.0 y -2.0 son elegidos aleatoriamente, \n",
    "# estos serán optimizados durante el proceso de entrenamiento\n",
    "\n",
    "W = tf.Variable([3.0])\n",
    "b = tf.Variable([-2.0])"
   ]
  },
  {
   "cell_type": "markdown",
   "metadata": {},
   "source": [
    "Ahora se crean dos placeholders los cuales contendrán los datos con que se alimentará al modelo"
   ]
  },
  {
   "cell_type": "code",
   "execution_count": 3,
   "metadata": {},
   "outputs": [],
   "source": [
    "# ENTRADAS DEL MODELO\n",
    "\n",
    "X = tf.placeholder(tf.float32)\n",
    "Y = tf.placeholder(tf.float32)"
   ]
  },
  {
   "cell_type": "markdown",
   "metadata": {},
   "source": [
    "Ahora definimos el modelo para la ecuación:\n",
    "$$ Y = WX + b $$"
   ]
  },
  {
   "cell_type": "code",
   "execution_count": 5,
   "metadata": {},
   "outputs": [],
   "source": [
    "# MODEL DEFINITION\n",
    "\n",
    "predictions = W*X + b"
   ]
  },
  {
   "cell_type": "markdown",
   "metadata": {},
   "source": [
    "Definimos la función de error. El error es la diferencia entre los valores verdaderos y los\n",
    "valores obtenidos por el modelo. En este caso usaremos como error la suma del cuadrado de la diferencia entre estos valores:\n",
    "\n",
    "$$ error = \\sum_{i=1}^n \\left(real_i - prediccion_i\\right)^2 $$"
   ]
  },
  {
   "cell_type": "code",
   "execution_count": 6,
   "metadata": {},
   "outputs": [],
   "source": [
    "# LOSS FUNCTION. Aqui usamos la suma del cuadrado de los errores\n",
    "\n",
    "loss = tf.reduce_sum(tf.square(predictions - Y))"
   ]
  },
  {
   "cell_type": "markdown",
   "metadata": {},
   "source": [
    "Ahora definimos la funci{on de optimizaci{on para el sistema, en este caso vamos a utilizar el modelo del gradiente desendiente"
   ]
  },
  {
   "cell_type": "code",
   "execution_count": 9,
   "metadata": {},
   "outputs": [],
   "source": [
    "# TRAINING OP, el learning rate será de 0.001 y la funci{on a minimizar es la funci{on de error 'loss'\n",
    "\n",
    "train = tf.train.GradientDescentOptimizer(0.001).minimize(loss)"
   ]
  },
  {
   "cell_type": "markdown",
   "metadata": {},
   "source": [
    "Ahora creamos algunos datos de entrenamiento para las entradas del modelo X y Y"
   ]
  },
  {
   "cell_type": "code",
   "execution_count": 11,
   "metadata": {},
   "outputs": [],
   "source": [
    "# TRAIN DATA\n",
    "\n",
    "x = [1.1,2.0,3.5,4.8]\n",
    "y = [2.0,3.4,4.2,5.1]"
   ]
  },
  {
   "cell_type": "markdown",
   "metadata": {},
   "source": [
    "Finalmente creamos la sesion y entrenamos el modelo"
   ]
  },
  {
   "cell_type": "code",
   "execution_count": 15,
   "metadata": {},
   "outputs": [],
   "source": [
    "# SESSION AND TRAINNING\n",
    "\n",
    "with tf.Session() as sess:\n",
    "    # iniciali<zo las variables\n",
    "    sess.run(tf.global_variables_initializer())\n",
    "    \n",
    "    for train_step in range(2000):\n",
    "        sess.run(train, feed_dict = {X:x, Y:y})\n",
    "        \n",
    "    # obtengo los datos finales calculados por tf\n",
    "    final_W, final_b, final_loss = sess.run([W, b, loss], feed_dict = {X:x, Y:y})"
   ]
  },
  {
   "cell_type": "markdown",
   "metadata": {},
   "source": [
    "Muestro los valores finales para los parámetros $W$ y $b$ que han sido calculador por TensorFlow"
   ]
  },
  {
   "cell_type": "code",
   "execution_count": 16,
   "metadata": {},
   "outputs": [
    {
     "name": "stdout",
     "output_type": "stream",
     "text": [
      "W: [0.8422483], b: [1.2378168], loss: 0.28800032\n"
     ]
    }
   ],
   "source": [
    "print('W: %s, b: %s, loss: %s'%(final_W, final_b, final_loss))"
   ]
  },
  {
   "cell_type": "markdown",
   "metadata": {},
   "source": [
    "Muestro gráficamente los datos originales y el resultado dle modelo"
   ]
  },
  {
   "cell_type": "code",
   "execution_count": 28,
   "metadata": {},
   "outputs": [
    {
     "data": {
      "text/plain": [
       "[<matplotlib.lines.Line2D at 0x1da2bcd2148>]"
      ]
     },
     "execution_count": 28,
     "metadata": {},
     "output_type": "execute_result"
    },
    {
     "data": {
      "image/png": "[encoded data removed]",
      "text/plain": [
       "<Figure size 432x288 with 1 Axes>"
      ]
     },
     "metadata": {
      "needs_background": "light"
     },
     "output_type": "display_data"
    }
   ],
   "source": [
    "y_model = x*final_W + final_b\n",
    "\n",
    "plt.plot(x, y, 'r')\n",
    "plt.plot(x_model, y_model, 'b--')"
   ]
  },
  {
   "cell_type": "code",
   "execution_count": null,
   "metadata": {},
   "outputs": [],
   "source": []
  }
 ],
 "metadata": {
  "kernelspec": {
   "display_name": "Python 3",
   "language": "python",
   "name": "python3"
  },
  "language_info": {
   "codemirror_mode": {
    "name": "ipython",
    "version": 3
   },
   "file_extension": ".py",
   "mimetype": "text/x-python",
   "name": "python",
   "nbconvert_exporter": "python",
   "pygments_lexer": "ipython3",
   "version": "3.7.4"
  }
 },
 "nbformat": 4,
 "nbformat_minor": 2
}
