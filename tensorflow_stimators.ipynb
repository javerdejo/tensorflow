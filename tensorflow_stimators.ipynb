{
 "cells": [
  {
   "cell_type": "markdown",
   "metadata": {},
   "source": [
    "# Uso de estimadores con Tensorflow\n",
    "(por: Javier Arellano-Verdejo)"
   ]
  },
  {
   "cell_type": "code",
   "execution_count": 3,
   "metadata": {},
   "outputs": [],
   "source": [
    "import pandas as pd\n",
    "import numpy as np\n",
    "import matplotlib.pyplot as plt\n",
    "from sklearn.model_selection import train_test_split\n",
    "import tensorflow as tf\n",
    "plt.style.use(\"seaborn-colorblind\")\n",
    "\n",
    "%matplotlib inline\n",
    "\n",
    "tf.logging.set_verbosity(tf.logging.FATAL)"
   ]
  },
  {
   "cell_type": "markdown",
   "metadata": {},
   "source": [
    "### 1. Carga de los datos"
   ]
  },
  {
   "cell_type": "code",
   "execution_count": 13,
   "metadata": {},
   "outputs": [
    {
     "name": "stdout",
     "output_type": "stream",
     "text": [
      "(3585, 17)\n"
     ]
    },
    {
     "data": {
      "text/html": [
       "<div>\n",
       "<style scoped>\n",
       "    .dataframe tbody tr th:only-of-type {\n",
       "        vertical-align: middle;\n",
       "    }\n",
       "\n",
       "    .dataframe tbody tr th {\n",
       "        vertical-align: top;\n",
       "    }\n",
       "\n",
       "    .dataframe thead th {\n",
       "        text-align: right;\n",
       "    }\n",
       "</style>\n",
       "<table border=\"1\" class=\"dataframe\">\n",
       "  <thead>\n",
       "    <tr style=\"text-align: right;\">\n",
       "      <th></th>\n",
       "      <th>host_is_superhost</th>\n",
       "      <th>host_total_listings_count</th>\n",
       "      <th>neighbourhood_cleansed</th>\n",
       "      <th>property_type</th>\n",
       "      <th>room_type</th>\n",
       "      <th>accommodates</th>\n",
       "      <th>bathrooms</th>\n",
       "      <th>bedrooms</th>\n",
       "      <th>beds</th>\n",
       "      <th>bed_type</th>\n",
       "      <th>price</th>\n",
       "      <th>security_deposit</th>\n",
       "      <th>cleaning_fee</th>\n",
       "      <th>minimum_nights</th>\n",
       "      <th>number_of_reviews</th>\n",
       "      <th>review_scores_value</th>\n",
       "      <th>instant_bookable</th>\n",
       "    </tr>\n",
       "  </thead>\n",
       "  <tbody>\n",
       "    <tr>\n",
       "      <td>0</td>\n",
       "      <td>f</td>\n",
       "      <td>1</td>\n",
       "      <td>Roslindale</td>\n",
       "      <td>House</td>\n",
       "      <td>Entire home/apt</td>\n",
       "      <td>4</td>\n",
       "      <td>1.5</td>\n",
       "      <td>2.0</td>\n",
       "      <td>3.0</td>\n",
       "      <td>Real Bed</td>\n",
       "      <td>$250.00</td>\n",
       "      <td>NaN</td>\n",
       "      <td>$35.00</td>\n",
       "      <td>2</td>\n",
       "      <td>0</td>\n",
       "      <td>NaN</td>\n",
       "      <td>f</td>\n",
       "    </tr>\n",
       "    <tr>\n",
       "      <td>1</td>\n",
       "      <td>f</td>\n",
       "      <td>1</td>\n",
       "      <td>Roslindale</td>\n",
       "      <td>Apartment</td>\n",
       "      <td>Private room</td>\n",
       "      <td>2</td>\n",
       "      <td>1.0</td>\n",
       "      <td>1.0</td>\n",
       "      <td>1.0</td>\n",
       "      <td>Real Bed</td>\n",
       "      <td>$65.00</td>\n",
       "      <td>$95.00</td>\n",
       "      <td>$10.00</td>\n",
       "      <td>2</td>\n",
       "      <td>36</td>\n",
       "      <td>9.0</td>\n",
       "      <td>t</td>\n",
       "    </tr>\n",
       "  </tbody>\n",
       "</table>\n",
       "</div>"
      ],
      "text/plain": [
       "  host_is_superhost  host_total_listings_count neighbourhood_cleansed  \\\n",
       "0                 f                          1             Roslindale   \n",
       "1                 f                          1             Roslindale   \n",
       "\n",
       "  property_type        room_type  accommodates  bathrooms  bedrooms  beds  \\\n",
       "0         House  Entire home/apt             4        1.5       2.0   3.0   \n",
       "1     Apartment     Private room             2        1.0       1.0   1.0   \n",
       "\n",
       "   bed_type    price security_deposit cleaning_fee  minimum_nights  \\\n",
       "0  Real Bed  $250.00              NaN       $35.00               2   \n",
       "1  Real Bed   $65.00           $95.00       $10.00               2   \n",
       "\n",
       "   number_of_reviews  review_scores_value instant_bookable  \n",
       "0                  0                  NaN                f  \n",
       "1                 36                  9.0                t  "
      ]
     },
     "execution_count": 13,
     "metadata": {},
     "output_type": "execute_result"
    }
   ],
   "source": [
    "used_features = ['property_type','room_type','bathrooms','bedrooms','beds','bed_type','accommodates','host_total_listings_count'\n",
    "                ,'number_of_reviews','review_scores_value','neighbourhood_cleansed','cleaning_fee','minimum_nights','security_deposit','host_is_superhost',\n",
    "                 'instant_bookable', 'price']\n",
    "\n",
    "airbnb = pd.read_csv('./data/listings.csv', usecols = used_features)\n",
    "print(airbnb.shape)\n",
    "airbnb.head(2)"
   ]
  },
  {
   "cell_type": "markdown",
   "metadata": {},
   "source": [
    "### 2. Preprocesamiento de los datos\n",
    "\n",
    "* Las columnas **price**, **security_deposit** and **cleaning_fee** contienen datos que representan números sin embargo contienen algunos caracteres ($ y ,). Estos caracteres deben ser eliminados y finalmente los numeros deben ser convertidos a flotantes.\n",
    "\n",
    "* Por otro lado, otras columnas como **bathroom** y **bed** contienen datos faltantes por lo que deben ser rellenados usando por ejemplo la media.\n",
    "\n",
    "* Finalmente, la columna **property_type** es de tipo categorico por lo que los datos faltantes serán rellenados usando el dato que más se repita.\n"
   ]
  },
  {
   "cell_type": "code",
   "execution_count": 14,
   "metadata": {},
   "outputs": [],
   "source": [
    "# elimino los caracteres $ y , y convierto los datos a tipo flotante\n",
    "\n",
    "for feature in [\"cleaning_fee\",\"security_deposit\",\"price\"]:\n",
    "    airbnb[feature] = airbnb[feature].map(lambda x:x.replace(\"$\",'').replace(\",\",''),na_action = 'ignore')\n",
    "    airbnb[feature] = airbnb[feature].astype(float)\n",
    "    airbnb[feature].fillna(airbnb[feature].median(),inplace = True)\n",
    "\n",
    "# relleno los datos faltantes   \n",
    "for feature in [\"bathrooms\",\"bedrooms\",\"beds\",\"review_scores_value\"]:\n",
    "    airbnb[feature].fillna(airbnb[feature].median(),inplace = True)\n",
    "\n",
    "# relleno los datos categóricos \n",
    "airbnb['property_type'].fillna('Apartment',inplace = True)"
   ]
  },
  {
   "cell_type": "markdown",
   "metadata": {},
   "source": [
    "Veamos los cambios en los datos"
   ]
  },
  {
   "cell_type": "code",
   "execution_count": 15,
   "metadata": {},
   "outputs": [
    {
     "data": {
      "text/html": [
       "<div>\n",
       "<style scoped>\n",
       "    .dataframe tbody tr th:only-of-type {\n",
       "        vertical-align: middle;\n",
       "    }\n",
       "\n",
       "    .dataframe tbody tr th {\n",
       "        vertical-align: top;\n",
       "    }\n",
       "\n",
       "    .dataframe thead th {\n",
       "        text-align: right;\n",
       "    }\n",
       "</style>\n",
       "<table border=\"1\" class=\"dataframe\">\n",
       "  <thead>\n",
       "    <tr style=\"text-align: right;\">\n",
       "      <th></th>\n",
       "      <th>host_is_superhost</th>\n",
       "      <th>host_total_listings_count</th>\n",
       "      <th>neighbourhood_cleansed</th>\n",
       "      <th>property_type</th>\n",
       "      <th>room_type</th>\n",
       "      <th>accommodates</th>\n",
       "      <th>bathrooms</th>\n",
       "      <th>bedrooms</th>\n",
       "      <th>beds</th>\n",
       "      <th>bed_type</th>\n",
       "      <th>price</th>\n",
       "      <th>security_deposit</th>\n",
       "      <th>cleaning_fee</th>\n",
       "      <th>minimum_nights</th>\n",
       "      <th>number_of_reviews</th>\n",
       "      <th>review_scores_value</th>\n",
       "      <th>instant_bookable</th>\n",
       "    </tr>\n",
       "  </thead>\n",
       "  <tbody>\n",
       "    <tr>\n",
       "      <td>0</td>\n",
       "      <td>f</td>\n",
       "      <td>1</td>\n",
       "      <td>Roslindale</td>\n",
       "      <td>House</td>\n",
       "      <td>Entire home/apt</td>\n",
       "      <td>4</td>\n",
       "      <td>1.5</td>\n",
       "      <td>2.0</td>\n",
       "      <td>3.0</td>\n",
       "      <td>Real Bed</td>\n",
       "      <td>250.0</td>\n",
       "      <td>250.0</td>\n",
       "      <td>35.0</td>\n",
       "      <td>2</td>\n",
       "      <td>0</td>\n",
       "      <td>9.0</td>\n",
       "      <td>f</td>\n",
       "    </tr>\n",
       "    <tr>\n",
       "      <td>1</td>\n",
       "      <td>f</td>\n",
       "      <td>1</td>\n",
       "      <td>Roslindale</td>\n",
       "      <td>Apartment</td>\n",
       "      <td>Private room</td>\n",
       "      <td>2</td>\n",
       "      <td>1.0</td>\n",
       "      <td>1.0</td>\n",
       "      <td>1.0</td>\n",
       "      <td>Real Bed</td>\n",
       "      <td>65.0</td>\n",
       "      <td>95.0</td>\n",
       "      <td>10.0</td>\n",
       "      <td>2</td>\n",
       "      <td>36</td>\n",
       "      <td>9.0</td>\n",
       "      <td>t</td>\n",
       "    </tr>\n",
       "  </tbody>\n",
       "</table>\n",
       "</div>"
      ],
      "text/plain": [
       "  host_is_superhost  host_total_listings_count neighbourhood_cleansed  \\\n",
       "0                 f                          1             Roslindale   \n",
       "1                 f                          1             Roslindale   \n",
       "\n",
       "  property_type        room_type  accommodates  bathrooms  bedrooms  beds  \\\n",
       "0         House  Entire home/apt             4        1.5       2.0   3.0   \n",
       "1     Apartment     Private room             2        1.0       1.0   1.0   \n",
       "\n",
       "   bed_type  price  security_deposit  cleaning_fee  minimum_nights  \\\n",
       "0  Real Bed  250.0             250.0          35.0               2   \n",
       "1  Real Bed   65.0              95.0          10.0               2   \n",
       "\n",
       "   number_of_reviews  review_scores_value instant_bookable  \n",
       "0                  0                  9.0                f  \n",
       "1                 36                  9.0                t  "
      ]
     },
     "execution_count": 15,
     "metadata": {},
     "output_type": "execute_result"
    }
   ],
   "source": [
    "airbnb.head(2)"
   ]
  },
  {
   "cell_type": "markdown",
   "metadata": {},
   "source": [
    "Observemos la columna de precio"
   ]
  },
  {
   "cell_type": "code",
   "execution_count": 16,
   "metadata": {},
   "outputs": [
    {
     "data": {
      "image/png": "[encoded data removed]",
      "text/plain": [
       "<Figure size 432x288 with 1 Axes>"
      ]
     },
     "metadata": {
      "needs_background": "light"
     },
     "output_type": "display_data"
    }
   ],
   "source": [
    "airbnb[\"price\"].plot(kind = 'hist',grid = True)\n",
    "plt.title(\"Histogram del precio\");"
   ]
  },
  {
   "cell_type": "markdown",
   "metadata": {},
   "source": [
    "Como se puede observar, los datos se encuentran altamense sesgados en este set de datos es decir, la mayoria se encuentran por debajo de los 500 dolares y solo muy pocos en torno a los 4000"
   ]
  },
  {
   "cell_type": "code",
   "execution_count": 17,
   "metadata": {},
   "outputs": [
    {
     "data": {
      "text/plain": [
       "8.521483565683951"
      ]
     },
     "execution_count": 17,
     "metadata": {},
     "output_type": "execute_result"
    }
   ],
   "source": [
    "airbnb['price'].skew()"
   ]
  },
  {
   "cell_type": "markdown",
   "metadata": {},
   "source": [
    "Debido a este sesgo, solo usaremos un subconjunto de los datos usando solo aquellos com precios comprendidos entre los 50 y los 500 dolares, tambien transformaremos la escala de la información a logaritmica para reducir dicho sesgo"
   ]
  },
  {
   "cell_type": "code",
   "execution_count": 18,
   "metadata": {},
   "outputs": [
    {
     "data": {
      "image/png": "[encoded data removed]",
      "text/plain": [
       "<Figure size 432x288 with 1 Axes>"
      ]
     },
     "metadata": {
      "needs_background": "light"
     },
     "output_type": "display_data"
    }
   ],
   "source": [
    "airbnb = airbnb[(airbnb[\"price\"]>50)&(airbnb[\"price\"]<500)]\n",
    "target = np.log(airbnb.price) # columna objetivo durante el proceso de entrenamiento\n",
    "\n",
    "target.hist()\n",
    "plt.title(\"Distribución de precios despues de la selección y cambio de escala\");"
   ]
  },
  {
   "cell_type": "markdown",
   "metadata": {},
   "source": [
    "Elimino la columna de precio del conjunto de datos para quedarme solo con las columnas de carcateristicas"
   ]
  },
  {
   "cell_type": "code",
   "execution_count": 19,
   "metadata": {},
   "outputs": [
    {
     "data": {
      "text/html": [
       "<div>\n",
       "<style scoped>\n",
       "    .dataframe tbody tr th:only-of-type {\n",
       "        vertical-align: middle;\n",
       "    }\n",
       "\n",
       "    .dataframe tbody tr th {\n",
       "        vertical-align: top;\n",
       "    }\n",
       "\n",
       "    .dataframe thead th {\n",
       "        text-align: right;\n",
       "    }\n",
       "</style>\n",
       "<table border=\"1\" class=\"dataframe\">\n",
       "  <thead>\n",
       "    <tr style=\"text-align: right;\">\n",
       "      <th></th>\n",
       "      <th>host_is_superhost</th>\n",
       "      <th>host_total_listings_count</th>\n",
       "      <th>neighbourhood_cleansed</th>\n",
       "      <th>property_type</th>\n",
       "      <th>room_type</th>\n",
       "      <th>accommodates</th>\n",
       "      <th>bathrooms</th>\n",
       "      <th>bedrooms</th>\n",
       "      <th>beds</th>\n",
       "      <th>bed_type</th>\n",
       "      <th>security_deposit</th>\n",
       "      <th>cleaning_fee</th>\n",
       "      <th>minimum_nights</th>\n",
       "      <th>number_of_reviews</th>\n",
       "      <th>review_scores_value</th>\n",
       "      <th>instant_bookable</th>\n",
       "    </tr>\n",
       "  </thead>\n",
       "  <tbody>\n",
       "    <tr>\n",
       "      <td>0</td>\n",
       "      <td>f</td>\n",
       "      <td>1</td>\n",
       "      <td>Roslindale</td>\n",
       "      <td>House</td>\n",
       "      <td>Entire home/apt</td>\n",
       "      <td>4</td>\n",
       "      <td>1.5</td>\n",
       "      <td>2.0</td>\n",
       "      <td>3.0</td>\n",
       "      <td>Real Bed</td>\n",
       "      <td>250.0</td>\n",
       "      <td>35.0</td>\n",
       "      <td>2</td>\n",
       "      <td>0</td>\n",
       "      <td>9.0</td>\n",
       "      <td>f</td>\n",
       "    </tr>\n",
       "    <tr>\n",
       "      <td>1</td>\n",
       "      <td>f</td>\n",
       "      <td>1</td>\n",
       "      <td>Roslindale</td>\n",
       "      <td>Apartment</td>\n",
       "      <td>Private room</td>\n",
       "      <td>2</td>\n",
       "      <td>1.0</td>\n",
       "      <td>1.0</td>\n",
       "      <td>1.0</td>\n",
       "      <td>Real Bed</td>\n",
       "      <td>95.0</td>\n",
       "      <td>10.0</td>\n",
       "      <td>2</td>\n",
       "      <td>36</td>\n",
       "      <td>9.0</td>\n",
       "      <td>t</td>\n",
       "    </tr>\n",
       "  </tbody>\n",
       "</table>\n",
       "</div>"
      ],
      "text/plain": [
       "  host_is_superhost  host_total_listings_count neighbourhood_cleansed  \\\n",
       "0                 f                          1             Roslindale   \n",
       "1                 f                          1             Roslindale   \n",
       "\n",
       "  property_type        room_type  accommodates  bathrooms  bedrooms  beds  \\\n",
       "0         House  Entire home/apt             4        1.5       2.0   3.0   \n",
       "1     Apartment     Private room             2        1.0       1.0   1.0   \n",
       "\n",
       "   bed_type  security_deposit  cleaning_fee  minimum_nights  \\\n",
       "0  Real Bed             250.0          35.0               2   \n",
       "1  Real Bed              95.0          10.0               2   \n",
       "\n",
       "   number_of_reviews  review_scores_value instant_bookable  \n",
       "0                  0                  9.0                f  \n",
       "1                 36                  9.0                t  "
      ]
     },
     "execution_count": 19,
     "metadata": {},
     "output_type": "execute_result"
    }
   ],
   "source": [
    "features = airbnb.drop('price',axis=1)\n",
    "features.head(2)"
   ]
  },
  {
   "cell_type": "markdown",
   "metadata": {},
   "source": [
    "### 3. Divido los datos en los conjuntos de entrenamiento y prueba\n",
    "\n",
    "El conjunto de datos total es dividido en datos para prueba y datos para entrenamiento. El 30 porciento de los datos serán usados para prueba mientras que el otro 70 será usado para el entrenamiento del modelo. La opción *random_state* del método **train_test_split**, es utilizada para obtener siempre el mismo resultado, es decir inicializa el generador aleatorio para asi poder reproducir el ejemplo. "
   ]
  },
  {
   "cell_type": "code",
   "execution_count": 20,
   "metadata": {},
   "outputs": [],
   "source": [
    "X_train, X_test, y_train, y_test = train_test_split(\n",
    "    features, \n",
    "    target, \n",
    "    test_size=0.30, \n",
    "    random_state=42\n",
    ")"
   ]
  },
  {
   "cell_type": "markdown",
   "metadata": {},
   "source": [
    "### 4. Definición de las columnas de caracteristicas \"Feature Columns\""
   ]
  },
  {
   "cell_type": "code",
   "execution_count": 21,
   "metadata": {},
   "outputs": [],
   "source": [
    "# Get all the numeric feature names\n",
    "numeric_columns = ['host_total_listings_count','accommodates','bathrooms','bedrooms','beds',\n",
    " 'security_deposit','cleaning_fee','minimum_nights','number_of_reviews',\n",
    " 'review_scores_value']\n",
    "\n",
    "# Get all the categorical feature names that contains strings\n",
    "categorical_columns = ['host_is_superhost','neighbourhood_cleansed','property_type','room_type','bed_type','instant_bookable']\n"
   ]
  },
  {
   "cell_type": "markdown",
   "metadata": {},
   "source": [
    "Creacion de las columnas de caracteristicas para los atributos numéricos"
   ]
  },
  {
   "cell_type": "code",
   "execution_count": 22,
   "metadata": {},
   "outputs": [
    {
     "name": "stdout",
     "output_type": "stream",
     "text": [
      "NumericColumn(key='host_total_listings_count', shape=(1,), default_value=None, dtype=tf.float32, normalizer_fn=None)\n"
     ]
    }
   ],
   "source": [
    "numeric_features = [tf.feature_column.numeric_column(key = column) for column in numeric_columns]\n",
    "\n",
    "print(numeric_features[0])"
   ]
  },
  {
   "cell_type": "markdown",
   "metadata": {},
   "source": [
    "Creaciónde las columnas de caracteristicas para los atributos categoricos"
   ]
  },
  {
   "cell_type": "code",
   "execution_count": 23,
   "metadata": {},
   "outputs": [
    {
     "name": "stdout",
     "output_type": "stream",
     "text": [
      "VocabularyListCategoricalColumn(key='room_type', vocabulary_list=('Entire home/apt', 'Private room', 'Shared room'), dtype=tf.string, default_value=-1, num_oov_buckets=0)\n"
     ]
    }
   ],
   "source": [
    "categorical_features = [tf.feature_column.categorical_column_with_vocabulary_list(\n",
    "    key = column, vocabulary_list = features[column].unique())  for column in categorical_columns]\n",
    "\n",
    "print(categorical_features[3])"
   ]
  },
  {
   "cell_type": "markdown",
   "metadata": {},
   "source": [
    "Creamos la lista final de atributos"
   ]
  },
  {
   "cell_type": "code",
   "execution_count": 24,
   "metadata": {},
   "outputs": [],
   "source": [
    "linear_features = numeric_features + categorical_features"
   ]
  },
  {
   "cell_type": "markdown",
   "metadata": {},
   "source": [
    "### 5. Construcción de las funciones de entrada"
   ]
  },
  {
   "cell_type": "code",
   "execution_count": 25,
   "metadata": {},
   "outputs": [],
   "source": [
    "# Create training input function\n",
    "training_input_fn = tf.estimator.inputs.pandas_input_fn(x=X_train,\n",
    "                                                        y=y_train,\n",
    "                                                        batch_size=32,\n",
    "                                                        shuffle= True,\n",
    "                                                        num_epochs = None)\n",
    "# create testing input function\n",
    "eval_input_fn = tf.estimator.inputs.pandas_input_fn(x=X_test,\n",
    "                                                    y=y_test,\n",
    "                                                    batch_size=32,\n",
    "                                                    shuffle=False,\n",
    "                                                    num_epochs = 1)"
   ]
  },
  {
   "cell_type": "markdown",
   "metadata": {},
   "source": [
    "### 6. Inicializamos el modelo"
   ]
  },
  {
   "cell_type": "code",
   "execution_count": 26,
   "metadata": {},
   "outputs": [],
   "source": [
    "linear_regressor = tf.estimator.LinearRegressor(feature_columns=linear_features,\n",
    "                                                model_dir = \"linear_regressor\")"
   ]
  },
  {
   "cell_type": "markdown",
   "metadata": {},
   "source": [
    "### 7. Entrenamiento del modelo"
   ]
  },
  {
   "cell_type": "code",
   "execution_count": 27,
   "metadata": {},
   "outputs": [
    {
     "data": {
      "text/plain": [
       "<tensorflow_estimator.python.estimator.canned.linear.LinearRegressor at 0x275b8a169c8>"
      ]
     },
     "execution_count": 27,
     "metadata": {},
     "output_type": "execute_result"
    }
   ],
   "source": [
    "linear_regressor.train(input_fn = training_input_fn,steps=2000)"
   ]
  },
  {
   "cell_type": "markdown",
   "metadata": {},
   "source": [
    "### 8. Evaluación del modelo"
   ]
  },
  {
   "cell_type": "code",
   "execution_count": 28,
   "metadata": {},
   "outputs": [
    {
     "data": {
      "text/plain": [
       "{'average_loss': 0.1241837,\n",
       " 'label/mean': 4.9814363,\n",
       " 'loss': 3.9298131,\n",
       " 'prediction/mean': 4.9753585,\n",
       " 'global_step': 4000}"
      ]
     },
     "execution_count": 28,
     "metadata": {},
     "output_type": "execute_result"
    }
   ],
   "source": [
    "linear_regressor.evaluate(input_fn = eval_input_fn)"
   ]
  },
  {
   "cell_type": "code",
   "execution_count": 29,
   "metadata": {},
   "outputs": [
    {
     "name": "stdout",
     "output_type": "stream",
     "text": [
      "[ 88.58753   91.42419   88.03337  135.52568  148.45294  202.88943\n",
      " 241.30313  332.2077    83.58202   82.43143  247.31906   86.48483\n",
      " 264.7164   342.68887  162.82704  250.24536   86.75831  167.91437\n",
      " 241.13037   67.81129  187.36203  186.22282   78.644585  62.66999\n",
      " 135.71677   94.85768   87.09388  216.65897  185.48877  110.51609\n",
      " 176.59503   73.16732   86.60153  141.24295   82.02714  104.865395\n",
      " 171.25949   86.68714  221.39735  253.08955  225.33705  197.48642\n",
      " 143.12071  101.13213  160.9279    60.254974  76.48476  182.03012\n",
      " 120.34486  118.87141  100.700584 238.69995  193.49878  213.85327\n",
      " 222.2553    43.652596 112.63952   77.370575 216.69781   80.48579\n",
      " 168.45859   73.068794 247.6672   364.08923  392.08698  186.22282\n",
      " 114.90901  425.9497   124.860794  83.46835  189.87329  137.43315\n",
      "  85.311935 104.896645  85.53299  173.01437  148.24998   82.81915\n",
      " 188.8943   192.98976   77.99752  153.43376  292.14517   85.6195\n",
      " 164.4168   104.84214  208.98326  134.17227  144.05008  341.94275\n",
      "  92.63557  121.69901   67.271835  82.58203   89.85396   76.87859\n",
      "  80.3328   139.90208   88.79586  318.88913  121.37748  256.272\n",
      " 243.5529   178.94183   84.278946 180.51909  275.92487  196.81848\n",
      " 227.82904  137.56993  207.98178   73.672264 231.77176   57.60231\n",
      " 134.51224  236.9507   173.41298  141.3852   154.69276  111.38346\n",
      " 275.32095  251.96068  195.43858  120.80625   79.70829  127.482315\n",
      " 171.7464   112.06879  175.49225  240.51682  126.51678   81.27862\n",
      " 103.9094   180.58452  107.52628  526.8419   162.86198  227.6199\n",
      " 136.01965   71.28548  112.29747  463.0566   177.43716  176.92374\n",
      " 245.0719   113.124275 158.24178   78.50509   89.624725 291.80017\n",
      " 161.16373  147.67673   81.996124 109.119    225.4468   210.94899\n",
      " 160.08426  168.37201  141.80502   75.77781  196.00255  130.28964\n",
      " 114.37727  111.039665 168.23558  189.65387   93.49951  201.38562\n",
      " 179.69643   58.8816   210.89981   93.26516   87.08952  309.96524\n",
      " 213.5603    87.75575  110.58119  168.6822   262.5557   125.47549\n",
      " 125.39737  161.57832   79.38516   93.498314 117.12869  115.77321\n",
      "  80.66768  199.3848    90.68046  114.90901   80.74811  171.3455\n",
      " 182.0953    77.91916  105.92655  171.37958   90.12051  137.49313\n",
      " 276.58722  165.63768  125.30598  299.86417  238.67445  184.33046\n",
      "  90.423676  89.162315  79.70415   95.9165    14.730728 107.05556\n",
      " 204.47331  162.4173    87.657974 133.54752  117.58173  100.76231\n",
      " 219.3831   205.24785  136.84631  263.5294   167.05232  141.94708\n",
      " 184.08057  181.78256  138.00415  233.05954   62.473846  59.818832\n",
      " 227.97206  166.54695   86.07281   95.49741  127.068596 156.91333\n",
      " 226.20206   91.36374  173.27452  149.79716   81.13554  107.89233\n",
      " 161.46803  181.74408  100.146454 190.53075   74.75753  106.2985\n",
      "  89.26007  117.2896   203.34338   70.563675 154.50581  234.99644\n",
      " 113.62033  202.05008   64.76065  203.52342   85.533844 242.89635\n",
      "  98.63582  105.68323  212.3183    72.96417  198.33907   91.67074\n",
      " 205.80304  129.29694  185.89279  353.14847  144.76276  328.20728\n",
      " 200.34784  120.54604  180.78864   78.5927   184.35419  216.18611\n",
      "  63.093487  88.144554  74.20976  113.75982  216.21559  124.7168\n",
      " 282.76862  134.27557   84.4068   142.23714  159.9852   342.18774\n",
      "  93.539246 186.7091    78.18468  360.9325   100.9003    92.57693\n",
      "  64.24859  155.98396  171.92659  207.97623  127.08053  114.25147\n",
      " 118.497444 177.47668   83.276535 184.97887   97.94241  214.97906\n",
      " 195.78238  113.97434  364.79755  202.12523  244.74397  241.47221\n",
      " 227.27881  200.56424  262.7538   204.80449  102.587135 157.48158\n",
      "  74.82968  215.86626  325.6027    96.52733  140.53406  215.50331\n",
      " 113.39095  159.52396  193.77892  113.36392  170.2216   186.21191\n",
      " 237.72105  284.65924   52.94704  100.92879  109.273285 429.82693\n",
      " 241.0707    69.79175  115.1302    81.70302   65.43077   66.82695\n",
      " 105.93014  271.80966  202.36807  213.0232    98.91309  220.23366\n",
      " 100.33359   89.83969  167.8412   122.63     220.87856   83.13981\n",
      " 172.41219  152.86874   87.23399   95.49537  213.41534   85.601166\n",
      "  78.8204   230.98114  215.34666  368.75095  420.90897   80.66687\n",
      " 124.40722  256.9642   119.57767  202.94594   98.46087  186.48595\n",
      "  81.44019  243.28072  112.7492    98.732376  83.929405 211.43227\n",
      " 113.34668  164.82591  210.3985    77.40346  278.83255   28.41\n",
      "  91.71088  255.79013  326.5133    84.96851  154.70058  170.63159\n",
      " 241.47221  174.28731  124.49178  170.88124  142.34346  113.83948\n",
      " 183.42351  265.49878  312.89264  246.90018  206.2456    68.34885\n",
      "  84.376335 169.97925  442.26697  124.147484 170.73993  174.05351\n",
      " 265.74954   73.203514 180.79337  212.35982   66.36017  179.16519\n",
      " 273.27884  202.88837  213.39041  844.42834   97.04759   71.734245\n",
      " 344.32422  155.9383    69.369125 113.59054  224.2956   115.29689\n",
      " 211.45587  201.38177  228.44608  261.4089    93.078125  58.507767\n",
      "  89.657    149.40532  110.48631  157.22423  173.0544   120.31238\n",
      " 115.75069  116.05587   85.70372   78.27193  174.62904  386.03897\n",
      " 114.585915 135.90872  104.07919  175.23329  238.24498  122.78857\n",
      " 141.4873    83.17395  192.47337   41.961628  81.3135   259.06854\n",
      " 102.34518   39.71886   74.46133  642.1977   187.0735   154.58142\n",
      " 123.97227  123.23089  194.37776  192.9399    70.62837  189.56607\n",
      "  98.30784  184.17784  170.01833  144.38641  199.3983   297.33148\n",
      " 260.113    207.5619   138.83765  110.433754 162.41125  138.39413\n",
      " 196.04611  212.89241   74.57076  381.98584  248.37312  283.93195\n",
      " 170.53024  107.88934   78.21857  189.61479  309.9753    94.06099\n",
      " 182.24994  107.53469  199.63814   78.64995  241.47221  220.31012\n",
      " 217.8903   342.18774  215.32654   74.933556 253.87206  189.56607\n",
      " 241.47221   91.111755 108.18566  169.93727  184.46834  203.10152\n",
      "  92.676346 186.22282  222.7034    86.66354  194.57028  110.10087\n",
      " 220.22998  458.1907   135.30614   70.299835 178.27907  225.4468\n",
      "  56.273693 181.06703  342.68887  157.89047   70.75286  360.763\n",
      " 183.44048  130.67136  233.74533  231.65353  255.928     70.36507\n",
      "  90.42023  120.19861  342.68887   86.82659  265.3937   109.241196\n",
      " 109.42544  292.92633  160.47961   89.75992  165.08595   88.80984\n",
      " 130.62631  128.70175  161.3889   108.457146 162.47679  115.009766\n",
      "  79.092186  74.69959   85.46841  105.6476    86.55055  102.92649\n",
      "  69.81272  229.98674   70.54675  166.81902   55.901756 274.6022\n",
      " 166.31117  224.25613   85.363205 101.39021  181.025    148.05853\n",
      " 122.63     196.76414  132.79288  190.4974    86.612564 191.605\n",
      " 249.64182  100.56632  100.51521  173.79294  121.17398  163.50705\n",
      "  55.130135 210.35245  172.85637  294.124    162.06438  218.75624\n",
      " 205.26126  108.42079  111.61149  140.60182  213.38766  148.2174\n",
      "  52.3609    98.76774   75.752014 177.5808   284.0194    78.87927\n",
      " 173.9707   205.87479   95.02605  134.70358   90.473145 147.09538\n",
      " 183.52272   85.19136  165.14832  177.15141  161.94835  362.6734\n",
      "  72.9909   106.23111  156.67953  254.91637  151.24123   64.181046\n",
      " 315.34653  255.5546   203.43436   80.31928  132.30513  293.8082\n",
      "  88.727165 182.67451  315.34653  120.09263   68.703865 121.19172\n",
      " 207.64288  322.25784  120.011505 342.18774  162.11879   69.06597\n",
      "  70.28181  247.08566  311.98547   67.75637  128.73459  147.69504\n",
      "  54.10426   57.886826 118.39358  219.9418    98.37185  225.28603\n",
      " 162.68619  108.22441  249.2871   176.00455  189.41527   74.95052\n",
      " 114.03773  337.8604   147.23917  197.3708    57.20926   97.16706\n",
      " 239.7134   258.55023  204.60674   74.15101   87.2838   123.70872\n",
      " 119.75301  148.93138  233.18959  117.58173  172.18921  220.64444\n",
      " 103.017334 190.38307   78.61586  229.42693   90.17819  247.93968\n",
      " 165.36667  138.74414  343.82053   84.93522  105.70535  133.93935\n",
      " 140.00212   89.50143  106.732864 319.47842   83.0467   186.20738\n",
      " 172.2016    81.49668   96.5433    77.13821  258.18887  196.9009\n",
      "  78.046555 233.69118  154.31232  136.02322   77.11879   71.84303\n",
      " 183.52272   79.58296  342.18774  125.920525 210.9662   221.79222\n",
      " 180.76242  147.16975   77.351135 243.75436   82.33554  148.2999\n",
      " 106.00103  489.31876   92.23289  242.20818   84.38044   73.79947\n",
      " 162.0429    73.682274  92.39977  151.7696   190.34631  241.2295\n",
      "  87.194275 242.59528   90.81932   74.472725  57.32261  154.8834\n",
      "  90.136795 217.02727  297.73865  238.14368  121.03383  138.19011\n",
      "  98.80585  237.74248  124.024    360.80325  130.75706  171.61926\n",
      "  91.23684  115.51877  228.92477  241.47221  168.81755  181.80458\n",
      " 206.02415   98.49271  184.31912  233.16803  234.33939  241.49997\n",
      " 182.32286  118.26318  196.76414  208.79391   88.70978   86.319\n",
      " 151.44632  108.134605  81.68082  172.23027  306.06305  105.42371\n",
      "  69.820175  90.04246  106.19677  314.30798  165.56534  140.88147\n",
      " 346.8944   402.14255  225.4468    53.72442   90.24564  206.02415\n",
      " 171.49353  217.01216  263.32224  208.33504  168.1775   124.7228\n",
      "  92.57693  249.4795    38.36581   89.715416 277.7578   418.3386\n",
      "  75.998184  63.902023 163.11948  156.68887   84.70294  168.41344\n",
      " 195.96442   81.50146  197.22038  160.52861  133.83514   91.02504\n",
      " 285.8374   266.60806  169.9217   102.156296 141.97937  192.56728\n",
      " 105.77871   90.9495    71.03191  232.9241   144.35007  116.775185\n",
      " 244.42151  199.28546  159.35214   94.91587  171.26202  184.64557\n",
      " 366.1225    82.24184  184.38866  169.29526  102.156296 225.80936\n",
      "  58.6613   154.23383  200.00287  150.9742   105.41381  128.03778\n",
      " 207.33153  102.81186  154.19058  315.66727   72.02054  100.692184\n",
      "  79.233925 270.1377    67.40846  210.91762   76.21622  160.61359\n",
      " 100.414185 180.238    139.02666   97.52518  121.63125  176.36597\n",
      "  84.92339  108.391846  50.889034 137.45859   38.95293  171.31569\n",
      " 126.08418  118.5807    92.30016  272.7503    97.600586 200.8433\n",
      " 258.6421   168.94478  187.41689   98.77048  144.19783  125.42638\n",
      " 119.03358  116.465775 241.21294  357.88385  202.42395  263.9006\n",
      " 155.61133  303.40695  176.3668   104.99263  106.58639  200.73674\n",
      " 141.01407  343.5408   142.43063  151.1609   339.2146   118.294205\n",
      " 111.9885    84.52437  232.23131  114.217155 256.6101   238.49937\n",
      " 215.36546  164.04747  165.27318  179.14008  128.92668  272.96524\n",
      " 462.22845  166.02309   68.89713  252.49757  169.69742  209.40631\n",
      "  65.67953  249.01942   94.76085  187.36372  237.44803  297.1298\n",
      " 155.64494  169.59203  249.70503  103.82452  134.29216  190.00824\n",
      "  75.6067   237.55086  207.81613  179.16852   87.724335 125.43959\n",
      " 165.69179  162.408     53.925716 110.5124    88.8519    84.043015\n",
      " 171.46933  180.8708   270.73502  170.07071  194.9739    55.3372\n",
      " 121.557556  77.43502  239.17894  162.66043   87.56189  148.76558\n",
      " 122.085526 358.69742  196.20135  274.81375   74.79098   89.50646\n",
      " 167.49677   74.20637   68.745186 192.75708   89.49486   80.658134\n",
      " 105.7827   258.39517  205.72934   85.83554  239.83905  451.26505\n",
      " 107.88646  274.88428  167.5177    87.32501  141.72714  118.53909\n",
      " 128.06868  164.78679  124.04967  220.1525   136.95978  161.45256\n",
      "  77.62571  195.59315  138.75783  123.90655  387.31122  124.020096\n",
      " 149.9037   120.49472  212.11693 ]\n"
     ]
    }
   ],
   "source": [
    "pred = list(linear_regressor.predict(input_fn = eval_input_fn))\n",
    "pred = [p['predictions'][0] for p in pred]\n",
    "prices = np.exp(pred)\n",
    "print(prices)"
   ]
  },
  {
   "cell_type": "code",
   "execution_count": 30,
   "metadata": {},
   "outputs": [
    {
     "data": {
      "text/plain": [
       "3.1669501675013634"
      ]
     },
     "execution_count": 30,
     "metadata": {},
     "output_type": "execute_result"
    }
   ],
   "source": [
    "# Calculamos el error cuadratico medio de las predicciones contra los valores reales\n",
    "\n",
    "np.sqrt(np.sum(np.exp(y_test).values - prices)**2) / prices.shape[0]"
   ]
  },
  {
   "cell_type": "code",
   "execution_count": 31,
   "metadata": {},
   "outputs": [
    {
     "data": {
      "text/plain": [
       "array([ 67.,  90.,  75., 150., 195., 169., 319., 210.,  60.,  75., 200.,\n",
       "        89., 279., 119., 160., 250.,  81., 160., 300.,  60., 199., 169.,\n",
       "        60.,  79., 135.,  65.,  77., 200., 225., 165., 300., 200.,  80.,\n",
       "       272.,  75.,  90., 265., 119., 275., 220., 251., 175., 190.,  80.,\n",
       "       215.,  75.,  88., 300., 150., 185.,  80., 169., 175., 218., 275.,\n",
       "        70.,  65., 100., 200., 220., 140.,  89., 250., 279., 319., 169.,\n",
       "       160., 319., 119., 100., 287., 207.,  60.,  95.,  75., 145., 106.,\n",
       "        72., 225., 185.,  75., 105., 250.,  75., 200.,  75., 160., 100.,\n",
       "       300., 199.,  64., 119., 115.,  70., 125.,  60.,  99., 149.,  60.,\n",
       "       275.,  99., 150., 188., 250.,  75., 250., 299., 199., 169.,  99.,\n",
       "       235., 110., 207.,  68., 250., 289., 170., 175., 107.,  65., 400.,\n",
       "       119., 145., 135.,  65.,  80., 199.,  65., 249., 150.,  99.,  59.,\n",
       "        65., 240.,  90., 375., 259., 100., 130., 175.,  97., 330., 200.,\n",
       "       295., 299., 195., 175.,  67.,  72., 200., 193., 125.,  75., 125.,\n",
       "       219., 215., 290., 145., 130.,  88., 180., 140., 150.,  60., 200.,\n",
       "       155.,  60., 295., 350.,  75., 150.,  98.,  58., 236., 249.,  58.,\n",
       "       120., 150., 225., 145., 100., 150.,  69.,  78., 125.,  55.,  65.,\n",
       "       229., 110., 160., 119., 140., 169., 103., 119., 210., 100., 175.,\n",
       "       349., 145., 163., 240., 298., 249., 135.,  75.,  79.,  58.,  55.,\n",
       "        85., 150., 150.,  75., 125., 165., 130., 129., 249., 175., 175.,\n",
       "       125.,  79., 175., 150., 105., 250.,  79.,  58., 299., 190., 110.,\n",
       "       120., 110., 200.,  99.,  80., 150., 200.,  69.,  95., 269., 350.,\n",
       "       125., 300.,  99., 125., 109., 130., 175., 200., 168., 179.,  79.,\n",
       "       295.,  90., 159.,  71., 250., 145., 119., 185.,  59., 450.,  73.,\n",
       "       150., 170., 152., 298., 150., 200., 300., 103., 160.,  80., 199.,\n",
       "       250.,  65.,  66.,  70., 130., 236., 100., 299.,  99., 108., 160.,\n",
       "       145., 319., 169., 199., 100., 375.,  59.,  85.,  95., 209., 225.,\n",
       "       300., 250., 199., 119., 199., 125., 180.,  99., 200., 129., 125.,\n",
       "       329., 168., 250., 169., 159., 114., 144., 250., 250., 170.,  57.,\n",
       "       300., 125.,  80., 135., 197.,  99., 180., 169., 130., 180., 195.,\n",
       "       250., 385., 115., 103.,  70., 425., 350.,  63., 150.,  60.,  79.,\n",
       "        99.,  99., 363., 100., 210.,  65., 150., 250.,  72., 185., 250.,\n",
       "       189.,  75., 150., 179.,  68.,  66., 170., 100.,  68., 269., 255.,\n",
       "       450., 299., 135., 190., 350., 150., 150.,  79., 283.,  60., 250.,\n",
       "       160.,  89., 128., 255.,  60., 200., 350., 199., 199., 138.,  67.,\n",
       "       250., 200.,  61., 179., 275., 169., 169., 120., 250., 150., 110.,\n",
       "       165., 289., 325., 326., 160.,  65.,  94., 250., 383.,  80., 185.,\n",
       "       100., 429.,  77., 200., 139.,  60., 199., 229., 139., 199., 375.,\n",
       "        90.,  75., 299., 239., 100.,  99., 200.,  67., 255., 199., 152.,\n",
       "       200.,  70.,  95.,  85.,  99., 199., 150., 170., 390., 125., 150.,\n",
       "       120.,  60., 175., 190., 150., 175., 110., 220., 249., 102., 110.,\n",
       "        79., 130.,  60.,  75., 272., 100., 169.,  81., 299., 249., 175.,\n",
       "        75.,  85., 225., 175., 140., 150.,  78., 165., 200., 129., 135.,\n",
       "       390., 115., 240., 195.,  98., 100.,  79., 175., 349.,  59., 399.,\n",
       "       250., 159., 147.,  90.,  65., 183., 239.,  90., 110.,  70., 185.,\n",
       "        90., 169., 225., 295., 199., 170.,  60., 250., 145., 189.,  85.,\n",
       "        75., 250., 150., 175., 160., 169., 110.,  80., 260., 217., 199.,\n",
       "       218.,  95.,  85., 225., 219., 100., 165., 119., 195., 130., 399.,\n",
       "       200., 109., 279., 285., 165.,  99., 135., 115., 119., 100., 275.,\n",
       "       144.,  88., 450., 125.,  70., 159.,  69., 213., 110., 140.,  60.,\n",
       "       232., 169., 100.,  70.,  85.,  85.,  75.,  80.,  51., 150., 103.,\n",
       "       225.,  69., 199., 220., 232.,  85., 115., 251.,  75., 400., 169.,\n",
       "        57., 165.,  75., 193., 350.,  80.,  87., 225., 100., 200.,  65.,\n",
       "       195., 349., 279., 279., 165., 185.,  80., 135., 210., 325., 175.,\n",
       "       200.,  79.,  60., 199., 185.,  65.,  99., 174., 170., 149.,  60.,\n",
       "       175., 150.,  70., 171., 130., 279., 425.,  60.,  80., 135., 275.,\n",
       "       199.,  75., 119., 290., 209.,  80., 190., 279.,  60., 200., 119.,\n",
       "       144.,  70., 140., 189., 195., 169., 199., 146.,  65.,  76., 250.,\n",
       "       349., 125., 115., 200.,  56.,  95., 279., 143.,  60., 325., 160.,\n",
       "        74., 199., 300., 289.,  75., 169., 269., 200., 170., 100., 119.,\n",
       "       175., 363., 315.,  74., 179., 100.,  70., 150., 175.,  74., 249.,\n",
       "       425., 150., 144.,  95., 350., 150., 299., 249.,  89., 319., 150.,\n",
       "        89., 117.,  80.,  85., 175., 319.,  95., 120., 170.,  60.,  65.,\n",
       "        65., 179., 179.,  64., 215., 115., 159.,  55.,  60., 137.,  75.,\n",
       "       319., 163., 200., 250., 215., 150., 100., 259.,  85., 215., 195.,\n",
       "       279., 115., 287.,  70.,  75., 119., 199.,  99., 229., 239., 395.,\n",
       "        99., 248.,  99.,  65.,  60., 400., 135., 229., 383., 140., 160.,\n",
       "       139., 100., 250., 175., 199., 200., 180.,  99., 115., 200., 349.,\n",
       "       159., 259., 150.,  65., 142., 150., 400., 159., 300., 125., 169.,\n",
       "       285., 105.,  55., 155., 115.,  81., 242., 223.,  99.,  65.,  75.,\n",
       "        75., 319., 245., 245., 225., 225., 219.,  60.,  70., 148., 310.,\n",
       "       240., 300., 299., 160., 160.,  95., 196.,  65.,  89., 250., 349.,\n",
       "        55., 159., 160., 149.,  52., 115., 215.,  75., 200., 119.,  95.,\n",
       "        80., 235., 399., 144., 120., 300., 130., 169.,  99., 100., 130.,\n",
       "       220., 133., 180., 300.,  99.,  87., 200., 189., 350.,  72., 200.,\n",
       "       189.,  90., 400.,  90., 200., 195., 300.,  76., 175., 200.,  85.,\n",
       "       350., 334.,  75.,  89.,  68., 235.,  95., 150.,  65., 179., 130.,\n",
       "       254., 250.,  70., 150., 299.,  80.,  60.,  60.,  60.,  65., 220.,\n",
       "       175., 180., 125., 200.,  70., 199., 329., 125., 189.,  70.,  93.,\n",
       "       100., 170., 150., 239., 280., 150., 230., 140., 250., 130., 125.,\n",
       "       200., 199., 250., 285., 103., 120., 389., 125.,  89.,  80., 400.,\n",
       "        80., 150., 219., 125., 139., 320., 160.,  52., 285., 250., 177.,\n",
       "        76., 256., 210., 250., 100., 209.,  75., 150., 300., 169., 300.,\n",
       "       285., 185.,  80.,  55., 225.,  65., 250., 265., 200., 165.,  90.,\n",
       "       130., 161., 150., 100.,  65., 130., 130., 194., 306., 145., 147.,\n",
       "        65., 199., 130., 250., 206.,  67., 183., 150., 315., 169., 239.,\n",
       "        65.,  96., 150.,  75.,  65., 259.,  60., 100.,  69., 220., 160.,\n",
       "        75., 169., 199.,  95., 296., 285.,  99., 135., 119.,  85., 175.,\n",
       "        55., 129., 250., 163.,  62., 150., 181., 150., 375., 150., 175.,\n",
       "        89., 225.])"
      ]
     },
     "execution_count": 31,
     "metadata": {},
     "output_type": "execute_result"
    }
   ],
   "source": [
    "# muestro los valors reales\n",
    "np.exp(y_test.values)"
   ]
  },
  {
   "cell_type": "code",
   "execution_count": null,
   "metadata": {},
   "outputs": [],
   "source": []
  }
 ],
 "metadata": {
  "kernelspec": {
   "display_name": "Python 3",
   "language": "python",
   "name": "python3"
  },
  "language_info": {
   "codemirror_mode": {
    "name": "ipython",
    "version": 3
   },
   "file_extension": ".py",
   "mimetype": "text/x-python",
   "name": "python",
   "nbconvert_exporter": "python",
   "pygments_lexer": "ipython3",
   "version": "3.7.4"
  }
 },
 "nbformat": 4,
 "nbformat_minor": 2
}
